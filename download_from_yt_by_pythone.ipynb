{
  "nbformat": 4,
  "nbformat_minor": 0,
  "metadata": {
    "colab": {
      "provenance": [],
      "authorship_tag": "ABX9TyMzpURCJVchZWvaFtQDTK4y",
      "include_colab_link": true
    },
    "kernelspec": {
      "name": "python3",
      "display_name": "Python 3"
    },
    "language_info": {
      "name": "python"
    }
  },
  "cells": [
    {
      "cell_type": "markdown",
      "metadata": {
        "id": "view-in-github",
        "colab_type": "text"
      },
      "source": [
        "<a href=\"https://colab.research.google.com/github/makari09/app_project/blob/main/download_from_yt_by_pythone.ipynb\" target=\"_parent\"><img src=\"https://colab.research.google.com/assets/colab-badge.svg\" alt=\"Open In Colab\"/></a>"
      ]
    },
    {
      "cell_type": "code",
      "execution_count": 4,
      "metadata": {
        "colab": {
          "base_uri": "https://localhost:8080/"
        },
        "id": "1oDK7nvvPn6s",
        "outputId": "afcd3997-5578-41b4-86b7-9ccbacd89736"
      },
      "outputs": [
        {
          "output_type": "stream",
          "name": "stdout",
          "text": [
            "Requirement already satisfied: pytube in /usr/local/lib/python3.10/dist-packages (15.0.0)\n"
          ]
        }
      ],
      "source": [
        "!pip install pytube   # to download the liberlay\n",
        "from pytube import YouTube   #choose specific one\n",
        "\n",
        "\n",
        "# Rest of your code here"
      ]
    },
    {
      "cell_type": "code",
      "source": [
        "url = (\"https://www.youtube.com/watch?v=PMp3-qI6v2g\")\n",
        "yt = YouTube(url)\n",
        "\n",
        "# Get the first video stream\n",
        "video = yt.streams.first() # you can change the quality video if you want\n",
        "video.download()"
      ],
      "metadata": {
        "colab": {
          "base_uri": "https://localhost:8080/",
          "height": 36
        },
        "id": "T5zVQUBSPsMq",
        "outputId": "6baeda99-53f0-4038-a476-893d6e93a4df"
      },
      "execution_count": 7,
      "outputs": [
        {
          "output_type": "execute_result",
          "data": {
            "text/plain": [
              "'/content/لا تكن هشًا  بودكاست صحب (بدون موسيقى).mp4'"
            ],
            "application/vnd.google.colaboratory.intrinsic+json": {
              "type": "string"
            }
          },
          "metadata": {},
          "execution_count": 7
        }
      ]
    },
    {
      "cell_type": "code",
      "source": [],
      "metadata": {
        "id": "_OJv-ynqRK-u"
      },
      "execution_count": null,
      "outputs": []
    }
  ]
}