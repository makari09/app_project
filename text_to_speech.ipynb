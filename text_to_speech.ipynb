{
  "nbformat": 4,
  "nbformat_minor": 0,
  "metadata": {
    "colab": {
      "provenance": [],
      "authorship_tag": "ABX9TyNBY0v9BRD9orZZX7ZTajXE",
      "include_colab_link": true
    },
    "kernelspec": {
      "name": "python3",
      "display_name": "Python 3"
    },
    "language_info": {
      "name": "python"
    }
  },
  "cells": [
    {
      "cell_type": "markdown",
      "metadata": {
        "id": "view-in-github",
        "colab_type": "text"
      },
      "source": [
        "<a href=\"https://colab.research.google.com/github/makari09/app_project/blob/main/text_to_speech.ipynb\" target=\"_parent\"><img src=\"https://colab.research.google.com/assets/colab-badge.svg\" alt=\"Open In Colab\"/></a>"
      ]
    },
    {
      "cell_type": "code",
      "source": [
        "!pip install gTTS\n",
        "from gtts import gTTS"
      ],
      "metadata": {
        "colab": {
          "base_uri": "https://localhost:8080/"
        },
        "id": "P4q8s4T-UQDe",
        "outputId": "43ef23bb-14f9-4e46-bc19-d3da264a313a"
      },
      "execution_count": 4,
      "outputs": [
        {
          "output_type": "stream",
          "name": "stdout",
          "text": [
            "Collecting gTTS\n",
            "  Downloading gTTS-2.5.1-py3-none-any.whl (29 kB)\n",
            "Requirement already satisfied: requests<3,>=2.27 in /usr/local/lib/python3.10/dist-packages (from gTTS) (2.31.0)\n",
            "Requirement already satisfied: click<8.2,>=7.1 in /usr/local/lib/python3.10/dist-packages (from gTTS) (8.1.7)\n",
            "Requirement already satisfied: charset-normalizer<4,>=2 in /usr/local/lib/python3.10/dist-packages (from requests<3,>=2.27->gTTS) (3.3.2)\n",
            "Requirement already satisfied: idna<4,>=2.5 in /usr/local/lib/python3.10/dist-packages (from requests<3,>=2.27->gTTS) (3.6)\n",
            "Requirement already satisfied: urllib3<3,>=1.21.1 in /usr/local/lib/python3.10/dist-packages (from requests<3,>=2.27->gTTS) (2.0.7)\n",
            "Requirement already satisfied: certifi>=2017.4.17 in /usr/local/lib/python3.10/dist-packages (from requests<3,>=2.27->gTTS) (2024.2.2)\n",
            "Installing collected packages: gTTS\n",
            "Successfully installed gTTS-2.5.1\n"
          ]
        }
      ]
    },
    {
      "cell_type": "code",
      "execution_count": 6,
      "metadata": {
        "colab": {
          "base_uri": "https://localhost:8080/"
        },
        "id": "5sK4080xTuM_",
        "outputId": "1e845c91-1666-42ed-ee86-1744d0e4b178"
      },
      "outputs": [
        {
          "name": "stdout",
          "output_type": "stream",
          "text": [
            "enter your texthello world\n"
          ]
        }
      ],
      "source": [
        "massage = input(\"enter your text\")\n",
        "speech = gTTS(massage)\n",
        "speech.save(\"audio.mp3\")"
      ]
    },
    {
      "cell_type": "code",
      "source": [
        "# if you have't enough memory you can do that"
      ],
      "metadata": {
        "id": "fRxxwhklV7Ok"
      },
      "execution_count": null,
      "outputs": []
    },
    {
      "cell_type": "code",
      "source": [
        "from IPython.display import Audio\n",
        "audio = Audio(\"/content/audio.mp3\")\n",
        "display(audio)"
      ],
      "metadata": {
        "colab": {
          "base_uri": "https://localhost:8080/",
          "height": 76
        },
        "id": "VHOLsV-eV7Ls",
        "outputId": "a9790c95-2075-4a25-bf59-4cc556d1fd75"
      },
      "execution_count": 7,
      "outputs": [
        {
          "output_type": "display_data",
          "data": {
            "text/plain": [
              "<IPython.lib.display.Audio object>"
            ],
            "text/html": [
              "\n",
              "                <audio  controls=\"controls\" >\n",
              "                    <source src=\"data:audio/mpeg;base64,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\" type=\"audio/mpeg\" />\n",
              "                    Your browser does not support the audio element.\n",
              "                </audio>\n",
              "              "
            ]
          },
          "metadata": {}
        }
      ]
    },
    {
      "cell_type": "code",
      "source": [],
      "metadata": {
        "id": "oR1F8watV7Rd"
      },
      "execution_count": null,
      "outputs": []
    },
    {
      "cell_type": "code",
      "source": [],
      "metadata": {
        "id": "u1etzyINV7Ud"
      },
      "execution_count": null,
      "outputs": []
    }
  ]
}